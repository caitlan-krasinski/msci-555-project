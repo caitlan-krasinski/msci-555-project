{
 "cells": [
  {
   "cell_type": "markdown",
   "metadata": {},
   "source": [
    "# DATA setup \n",
    "\n",
    "M = # surgeons\n",
    "\n",
    "R = # of rooms \n",
    "\n",
    "J = info for patients to be scheduled"
   ]
  },
  {
   "cell_type": "code",
   "execution_count": 27,
   "metadata": {},
   "outputs": [],
   "source": [
    "M = 4\n",
    "R = 3\n",
    "\n",
    "# key: surgery type, value: list at index 0 is list of surgeons that can do the surgery, index 2 is the length of the surgery \n",
    "surgery = {1: [[1,2], 5],\n",
    "            2: [[2,3], 3],\n",
    "            3: [[4], 1], \n",
    "            4: [[1,2,3], 6],\n",
    "            5: [[2,3], 3],\n",
    "            6: [[1], 8] }\n",
    "\n",
    "\n",
    "\n",
    "# setup: {patient id: {'surgery_type': surgery_id,\n",
    "                # 'pj': surgery[surgery_id][1],\n",
    "                # 'wj': 0.5,\n",
    "                # 'mi': surgery[surgery_id][0]}}\n",
    "\n",
    "J = {1: {'surgery_type': 1,\n",
    "        'pj': surgery[1][1],\n",
    "        'wj': 0.5,\n",
    "        'mi': surgery[1][0]},\n",
    "    2: {'surgery_type': 2,\n",
    "        'pj': surgery[2][1], \n",
    "        'wj': 0.1,\n",
    "        'mi': surgery[2][0]},\n",
    "    3: {'surgery_type': 3,\n",
    "        'pj': surgery[3][1],\n",
    "        'wj': 0.8,\n",
    "        'mi': surgery[3][0]},\n",
    "    4: {'surgery_type': 4,\n",
    "        'pj': surgery[4][1],\n",
    "        'wj': 0.3,\n",
    "        'mi': surgery[4][0]},\n",
    "    5: {'surgery_type': 3,\n",
    "        'pj': surgery[3][1],\n",
    "        'wj': 0.5,\n",
    "        'mi': surgery[3][0]},\n",
    "    6: {'surgery_type': 3,\n",
    "        'pj': surgery[3][1],\n",
    "        'wj': 0.3,\n",
    "        'mi': surgery[3][0]}, \n",
    "    7: {'surgery_type': 5,\n",
    "        'pj': surgery[5][1],\n",
    "        'wj': 0.6,\n",
    "        'mi': surgery[5][0]},\n",
    "    8: {'surgery_type': 5,\n",
    "        'pj': surgery[5][1],\n",
    "        'wj': 0.8,\n",
    "        'mi': surgery[5][0]},\n",
    "    9: {'surgery_type': 6,\n",
    "        'pj': surgery[6][1],\n",
    "        'wj': 1,\n",
    "        'mi': surgery[6][0]},\n",
    "    10: {'surgery_type': 5,\n",
    "        'pj': surgery[5][1],\n",
    "        'wj': 0.3,\n",
    "        'mi': surgery[5][0]}\n",
    "    }"
   ]
  },
  {
   "cell_type": "markdown",
   "metadata": {},
   "source": [
    "# order jobs by priority - WSPT"
   ]
  },
  {
   "cell_type": "code",
   "execution_count": 28,
   "metadata": {},
   "outputs": [
    {
     "data": {
      "text/plain": [
       "{9: 1,\n",
       " 3: 0.8,\n",
       " 5: 0.5,\n",
       " 6: 0.3,\n",
       " 8: 0.26666666666666666,\n",
       " 7: 0.19999999999999998,\n",
       " 1: 0.1,\n",
       " 10: 0.09999999999999999,\n",
       " 4: 0.049999999999999996,\n",
       " 2: 0.03333333333333333}"
      ]
     },
     "execution_count": 28,
     "metadata": {},
     "output_type": "execute_result"
    }
   ],
   "source": [
    "priorities = {}\n",
    "\n",
    "for job in J.keys():\n",
    "    if J[job]['wj'] == 1: # weight of 1 means emergency surgery, therefore is put at front of queue \n",
    "        priority = 1\n",
    "        priorities[job] = priority\n",
    "    else:\n",
    "        priority = J[job]['wj'] / J[job]['pj']\n",
    "        priorities[job] = priority\n",
    "\n",
    "ordered_priority = dict(sorted(priorities.items(), key=lambda x:x[1], reverse = True))\n",
    "ordered_priority"
   ]
  },
  {
   "cell_type": "markdown",
   "metadata": {},
   "source": [
    "# Assign jobs to machines "
   ]
  },
  {
   "cell_type": "code",
   "execution_count": 29,
   "metadata": {},
   "outputs": [
    {
     "data": {
      "text/plain": [
       "{1: {'surgery_type': 1,\n",
       "  'pj': 5,\n",
       "  'wj': 0.5,\n",
       "  'mi': [1, 2],\n",
       "  'assigned_machine': 1},\n",
       " 2: {'surgery_type': 2,\n",
       "  'pj': 3,\n",
       "  'wj': 0.1,\n",
       "  'mi': [2, 3],\n",
       "  'assigned_machine': 2},\n",
       " 3: {'surgery_type': 3, 'pj': 1, 'wj': 0.8, 'mi': [4], 'assigned_machine': 4},\n",
       " 4: {'surgery_type': 4,\n",
       "  'pj': 6,\n",
       "  'wj': 0.3,\n",
       "  'mi': [1, 2, 3],\n",
       "  'assigned_machine': 3},\n",
       " 5: {'surgery_type': 3, 'pj': 1, 'wj': 0.5, 'mi': [4], 'assigned_machine': 4},\n",
       " 6: {'surgery_type': 3, 'pj': 1, 'wj': 0.3, 'mi': [4], 'assigned_machine': 4},\n",
       " 7: {'surgery_type': 5,\n",
       "  'pj': 3,\n",
       "  'wj': 0.6,\n",
       "  'mi': [2, 3],\n",
       "  'assigned_machine': 3},\n",
       " 8: {'surgery_type': 5,\n",
       "  'pj': 3,\n",
       "  'wj': 0.8,\n",
       "  'mi': [2, 3],\n",
       "  'assigned_machine': 2},\n",
       " 9: {'surgery_type': 6, 'pj': 8, 'wj': 1, 'mi': [1], 'assigned_machine': 1},\n",
       " 10: {'surgery_type': 5,\n",
       "  'pj': 3,\n",
       "  'wj': 0.3,\n",
       "  'mi': [2, 3],\n",
       "  'assigned_machine': 2}}"
      ]
     },
     "execution_count": 29,
     "metadata": {},
     "output_type": "execute_result"
    }
   ],
   "source": [
    "Mi = {}\n",
    "for m in range(1, M+1):\n",
    "    Mi[m] = []\n",
    "\n",
    "for job in ordered_priority.keys():\n",
    "    len_of_assigned_machine = 1000\n",
    "    machine_assignment = 0\n",
    "    for m in J[job]['mi']:\n",
    "        if len(Mi[m]) < len_of_assigned_machine:\n",
    "            machine_assignment = m\n",
    "            len_of_assigned_machine = len(Mi[m])\n",
    "\n",
    "    Mi[machine_assignment].append(job)\n",
    "    J[job]['assigned_machine'] = machine_assignment\n",
    "\n",
    "J"
   ]
  },
  {
   "cell_type": "markdown",
   "metadata": {},
   "source": [
    "# Scheduling to rooms "
   ]
  },
  {
   "cell_type": "code",
   "execution_count": 30,
   "metadata": {},
   "outputs": [
    {
     "data": {
      "text/plain": [
       "{1: [{'job': 9, 'machine': 1, 'start': 0, 'end': 8},\n",
       "  {'job': 4, 'machine': 3, 'start': 12, 'end': 18}],\n",
       " 2: [{'job': 3, 'machine': 4, 'start': 0, 'end': 1},\n",
       "  {'job': 5, 'machine': 4, 'start': 1.5, 'end': 2.5},\n",
       "  {'job': 6, 'machine': 4, 'start': 3.0, 'end': 4.0},\n",
       "  {'job': 7, 'machine': 3, 'start': 4.5, 'end': 7.5},\n",
       "  {'job': 1, 'machine': 1, 'start': 12, 'end': 17}],\n",
       " 3: [{'job': 2, 'machine': 2, 'start': 0, 'end': 3},\n",
       "  {'job': 8, 'machine': 2, 'start': 3.5, 'end': 6.5},\n",
       "  {'job': 10, 'machine': 2, 'start': 7.0, 'end': 10.0}]}"
      ]
     },
     "execution_count": 30,
     "metadata": {},
     "output_type": "execute_result"
    }
   ],
   "source": [
    "Rk = {} #room scheduling object \n",
    "room_available_at = [] # when is room (index) available \n",
    "machines_in_service = [] # what machines (value) are in what room (index)\n",
    "machine_available_at = [] # when (value) is the machine (index corresponding to above list) avaialble at \n",
    "time_in_day = [] # time of day (value) when checking in on a room (index)\n",
    "\n",
    "for r in range(1, R+1):\n",
    "    Rk[r] = []\n",
    "    room_available_at.append(0)\n",
    "    machines_in_service.append(0)\n",
    "    machine_available_at.append(0)\n",
    "    time_in_day.append(0)\n",
    "\n",
    "\n",
    "# copy of dict to remove from \n",
    "remaining_jobs = ordered_priority.copy()\n",
    "\n",
    "# start time \n",
    "t = 0\n",
    "while t <= 60 and len(remaining_jobs) != 0:\n",
    "    \n",
    "    next_time_check = min(room_available_at)\n",
    "\n",
    "    # check in each room \n",
    "    for r in Rk.keys():\n",
    "\n",
    "        # check to see if room is available or still in use - else try again later \n",
    "        if room_available_at[r-1] <= t:\n",
    "\n",
    "            # remove sergeons from room if they are done prev surgery \n",
    "            machine_available_at = [t if x <= t else x for x in machine_available_at]\n",
    "            machines_in_service = [0 if machine_available_at[machines_in_service.index(x)] <= t else x for x in machines_in_service]\n",
    "              \n",
    "            # next patient \n",
    "            candidate_job = list(remaining_jobs.keys())[0]\n",
    "\n",
    "            if time_in_day[r-1] + J[candidate_job]['pj'] +  0.5 <= 12 and J[candidate_job]['assigned_machine'] not in machines_in_service:\n",
    "                \n",
    "                # accept job\n",
    "                job = candidate_job \n",
    "            \n",
    "                # add surgeon start and end times to room list \n",
    "                Rk[r].append({'job': job, \n",
    "                    'machine': J[job]['assigned_machine'],\n",
    "                    'start': t, \n",
    "                    'end': t + J[job]['pj']\n",
    "                    })\n",
    "\n",
    "                room_available_at[r-1] = t + J[job]['pj'] + 0.5\n",
    "                machines_in_service[r-1] = J[job]['assigned_machine']\n",
    "                machine_available_at[r-1] = t + J[job]['pj']\n",
    "                next_time_check = min(room_available_at)\n",
    "\n",
    "                if t + J[job]['pj'] + 0.5 <= 12:\n",
    "                    time_in_day[r-1] = t + J[job]['pj'] + 0.5\n",
    "                else:\n",
    "                    time_in_day[r-1] = 0\n",
    "\n",
    "                if t + J[job]['pj'] + 0.5 < next_time_check:\n",
    "                    next_time_check = t + J[job]['pj'] + 0.5\n",
    "                    \n",
    "                remaining_jobs.pop(job)\n",
    "                if len(remaining_jobs) == 0:\n",
    "                    break\n",
    "           \n",
    "            else:\n",
    "\n",
    "                candidate_job = None \n",
    "                for job in remaining_jobs.keys():\n",
    "                    if time_in_day[r-1] + J[job]['pj'] + 0.5 <= 12 and J[job]['assigned_machine'] not in machines_in_service:\n",
    "                        candidate_job = job\n",
    "                        \n",
    "                if candidate_job:\n",
    "    \n",
    "                    job = candidate_job \n",
    "\n",
    "                    Rk[r].append({'job': job, \n",
    "                    'machine': J[job]['assigned_machine'],\n",
    "                    'start': t, \n",
    "                    'end': t + J[job]['pj']\n",
    "                    })\n",
    "\n",
    "                    room_available_at[r-1] = t + J[job]['pj'] + 0.5\n",
    "                    machines_in_service[r-1] = J[job]['assigned_machine']\n",
    "                    machine_available_at[r-1] = t + J[job]['pj']\n",
    "                    next_time_check = min(room_available_at)\n",
    "\n",
    "                    if t + J[job]['pj'] + 0.5 <= 12:\n",
    "                        time_in_day[r-1] = t + J[job]['pj'] + 0.5\n",
    "                    else:\n",
    "                        time_in_day[r-1] = 0\n",
    "\n",
    "                    if t + J[job]['pj'] + 0.5 < next_time_check:\n",
    "                        next_time_check = t + J[job]['pj'] + 0.5\n",
    "                        \n",
    "                    remaining_jobs.pop(job)\n",
    "                    if len(remaining_jobs) == 0:\n",
    "                        break\n",
    "\n",
    "                else:\n",
    "                    next_time_check = 12 * (1 + int((t - 1) / 12)) # go to next day\n",
    "                        \n",
    "                    time_in_day[r-1] = 0 \n",
    "                    \n",
    "                    room_available_at[r-1] = next_time_check\n",
    "                    machine_available_at[r-1] = next_time_check\n",
    "                    machines_in_service[r-1] = 0\n",
    "\n",
    "\n",
    "    t = next_time_check\n",
    "\n",
    "Rk\n",
    "        "
   ]
  },
  {
   "cell_type": "markdown",
   "metadata": {},
   "source": [
    "# Plot"
   ]
  },
  {
   "cell_type": "code",
   "execution_count": 31,
   "metadata": {},
   "outputs": [
    {
     "data": {
      "text/plain": [
       "(0.0, 60.0)"
      ]
     },
     "execution_count": 31,
     "metadata": {},
     "output_type": "execute_result"
    },
    {
     "data": {
      "image/png": "[encoded data removed]",
      "text/plain": [
       "<Figure size 2160x576 with 1 Axes>"
      ]
     },
     "metadata": {
      "needs_background": "light"
     },
     "output_type": "display_data"
    }
   ],
   "source": [
    "import matplotlib.pyplot as plt\n",
    "\n",
    "# Define chart parameters\n",
    "chart_title = \"Schedule\"\n",
    "bar_height = 0.4\n",
    "bar_color1 = 'blue'\n",
    "bar_color2 = 'green'\n",
    "\n",
    "colours = ['c', 'm', 'g', 'r', 'b', 'y']\n",
    "\n",
    "# Set up the chart\n",
    "fig, ax = plt.subplots(figsize=(30, 8))\n",
    "\n",
    "# Set up the y-axis\n",
    "ylabels = [f\"Room {i+1}\" for i in range(R)]\n",
    "ypos = range(R)\n",
    "ax.set_yticks(ypos)\n",
    "ax.set_yticklabels(ylabels)\n",
    "ax.tick_params(axis='y', length=0)\n",
    "\n",
    "for r in Rk.keys():\n",
    "    jobs_in_room = Rk[r]\n",
    "    for job in jobs_in_room:\n",
    "        duration = job['end'] - job['start']\n",
    "        ax.barh(r-1, duration, height=bar_height, left=job['start'], align='center', alpha=0.5, color=colours[job['machine']-1])\n",
    "        ax.text(job['start'] + duration / 2, r-1, f\"Surgeon: {job['machine']}\\nPatient: {job['job']}\", ha='center', va='center', color='black', size = 15)\n",
    "\n",
    "# Add the chart title\n",
    "ax.set_title(chart_title)\n",
    "\n",
    "day_idxs = [12, 24, 36, 48]\n",
    "for x in day_idxs:\n",
    "    ax.axvline(x=x, color='k', linestyle='--')\n",
    "\n",
    "xmin = 0\n",
    "xmax = 60\n",
    "ax.set_xlim(xmin, xmax)\n"
   ]
  },
  {
   "cell_type": "markdown",
   "metadata": {},
   "source": [
    "# Requirements for streamlit\n",
    "\n",
    "1. form to enter in new \"job\" (patient) info\n",
    "    - how long it will take (pj) - maybe dependent on type of surgery \n",
    "    - weight of surgery (wj) - maybe based on the cost of the surgery, the comlexity of the surgery or the urgency \n",
    "    - what sergeons are qualified to do the surgery - maybe this is autofilled based on surgery type\n",
    "\n",
    "\n",
    "2. pass vars to run scheduling algo and then plot gantt chart \n",
    "\n",
    "fixed inputs include: number of patients and number of surgeons for each surgery type\n"
   ]
  },
  {
   "cell_type": "markdown",
   "metadata": {},
   "source": []
  }
 ],
 "metadata": {
  "interpreter": {
   "hash": "2bf6ca1cf4bbd55d2457dc6e8fa83213c9fcabf0e2c24ef39d0aa93ae406cc9a"
  },
  "kernelspec": {
   "display_name": "Python 3.8.5 ('av')",
   "language": "python",
   "name": "python3"
  },
  "language_info": {
   "codemirror_mode": {
    "name": "ipython",
    "version": 3
   },
   "file_extension": ".py",
   "mimetype": "text/x-python",
   "name": "python",
   "nbconvert_exporter": "python",
   "pygments_lexer": "ipython3",
   "version": "3.8.3"
  },
  "orig_nbformat": 4
 },
 "nbformat": 4,
 "nbformat_minor": 2
}
